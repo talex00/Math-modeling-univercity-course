{
 "cells": [
  {
   "cell_type": "markdown",
   "metadata": {},
   "source": [
    "# Численное решение задачи Коши методом Рунге-Кутта 4 порядка"
   ]
  },
  {
   "cell_type": "markdown",
   "metadata": {},
   "source": [
    "Функция для решения поставленной задачи"
   ]
  },
  {
   "cell_type": "code",
   "execution_count": 31,
   "metadata": {},
   "outputs": [],
   "source": [
    "import math\n",
    "import pandas as pd\n",
    "\n",
    "def runge_kutta_4(f, x0, y0, xn, n):\n",
    "    # Шаг\n",
    "    h = (xn - x0) / n\n",
    "\n",
    "    # Массивы для хранения значений x и y, k1, k2, k3, k4\n",
    "    x = [0] * (n + 1)\n",
    "    y = [0] * (n + 1)\n",
    "    k1a = [0] * (n + 1)\n",
    "    k2a = [0] * (n + 1)\n",
    "    k3a = [0] * (n + 1)\n",
    "    k4a = [0] * (n + 1)\n",
    "\n",
    "    # Начальные значения\n",
    "    x[0] = x0\n",
    "    y[0] = y0\n",
    "\n",
    "    # Вычисление значений\n",
    "    for i in range(1, n + 1):\n",
    "        k1 = h * f(x[i - 1], y[i - 1])\n",
    "        k2 = h * f(x[i - 1] + h / 2, y[i - 1] + k1 / 2)\n",
    "        k3 = h * f(x[i - 1] + h / 2, y[i - 1] + k2 / 2)\n",
    "        k4 = h * f(x[i - 1] + h, y[i - 1] + k3)\n",
    "\n",
    "        k1a[i - 1] = k1\n",
    "        k2a[i - 1] = k2\n",
    "        k3a[i - 1] = k3\n",
    "        k4a[i - 1] = k4\n",
    "\n",
    "        x[i] = x[i - 1] + h\n",
    "        y[i] = y[i - 1] + (k1 + 2 * k2 + 2 * k3 + k4) / 6\n",
    "\n",
    "    return x, y, k1a, k2a, k3a, k4a"
   ]
  },
  {
   "cell_type": "markdown",
   "metadata": {},
   "source": [
    "Решение"
   ]
  },
  {
   "cell_type": "code",
   "execution_count": 32,
   "metadata": {},
   "outputs": [
    {
     "name": "stdout",
     "output_type": "stream",
     "text": [
      "       t         y        k1        k2        k3        k4\n",
      "0   0.00  0.500000  0.005000  0.004975  0.004975  0.004950\n",
      "1   0.01  0.504975  0.004950  0.004924  0.004925  0.004899\n",
      "2   0.02  0.509899  0.004899  0.004873  0.004874  0.004848\n",
      "3   0.03  0.514773  0.004848  0.004822  0.004822  0.004796\n",
      "4   0.04  0.519595  0.004796  0.004770  0.004770  0.004744\n",
      "5   0.05  0.524365  0.004744  0.004718  0.004718  0.004691\n",
      "6   0.06  0.529082  0.004691  0.004665  0.004665  0.004638\n",
      "7   0.07  0.533747  0.004638  0.004611  0.004611  0.004584\n",
      "8   0.08  0.538358  0.004584  0.004557  0.004558  0.004530\n",
      "9   0.09  0.542916  0.004530  0.004503  0.004503  0.004476\n",
      "10  0.10  0.547419  0.000000  0.000000  0.000000  0.000000\n"
     ]
    }
   ],
   "source": [
    "# Функция из примера 2\n",
    "def dy_dt(t, y):\n",
    "    return math.cos(t) - y\n",
    "\n",
    "# Дано\n",
    "t0 = 0\n",
    "y0 = 0.5\n",
    "tn = 0.1\n",
    "n = 10\n",
    "\n",
    "# Решение\n",
    "t, y, k1, k2, k3, k4 = runge_kutta_4(dy_dt, t0, y0, tn, n)\n",
    "\n",
    "# Создание таблицы\n",
    "data = {'t': t, 'y': y, 'k1': k1, 'k2': k2, 'k3': k3, 'k4': k4}\n",
    "df = pd.DataFrame(data)\n",
    "\n",
    "# Вывод таблицы\n",
    "print(df)"
   ]
  }
 ],
 "metadata": {
  "kernelspec": {
   "display_name": ".venv",
   "language": "python",
   "name": "python3"
  },
  "language_info": {
   "codemirror_mode": {
    "name": "ipython",
    "version": 3
   },
   "file_extension": ".py",
   "mimetype": "text/x-python",
   "name": "python",
   "nbconvert_exporter": "python",
   "pygments_lexer": "ipython3",
   "version": "3.12.4"
  }
 },
 "nbformat": 4,
 "nbformat_minor": 2
}
