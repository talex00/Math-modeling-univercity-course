{
 "cells": [
  {
   "cell_type": "markdown",
   "metadata": {},
   "source": [
    "# Лабораторная работа №1.\n",
    "Выполнил: студент группы ИДМ-24-07 Туркин Александр."
   ]
  },
  {
   "cell_type": "markdown",
   "metadata": {},
   "source": [
    "## Задание\n",
    "Математическая модель Лотки-Вольтерры («хищник-жертва»)\n",
    "\n",
    " \\begin{cases}\n",
    "   \\frac{dV}{dt}=(a-bP)V\n",
    "   \\\\\n",
    "   \\frac{dP}{dt}=(-c+dV)P\n",
    " \\end{cases}\n",
    "\n",
    "<center>Задаваемые параметры</center>\n",
    "\n",
    "P – количество хищников;  \n",
    "V – количество жертв;  \n",
    "t – время;  \n",
    "a – вероятность рождаемости жертв;  \n",
    "b – вероятность смертности жертв при встрече с хищником;  \n",
    "c – вероятность убыли хищников при нехватке еды;  \n",
    "d – вероятность достаточности еды для размножения хищников.\n",
    "\n",
    "<center>Задание</center>  \n",
    "\n",
    "1. Решить систему уравнений численно методом Рунге-Кутты 4 порядка \n",
    "точности  \n",
    "2. Построить графики изменения динамики численности хищников V(t), и \n",
    "жертв P(t)  \n",
    "3. Построить фазовую диаграмму (по оси Х – жертвы, по оси У – хищники)  \n",
    "4. Найти стационарную точку (равновесное состояние, в общем виде)  \n",
    "5. В выводах написать влияние каждого из коэффициентов (a, b, c, d) на \n",
    "систему  "
   ]
  },
  {
   "cell_type": "code",
   "execution_count": 1,
   "metadata": {},
   "outputs": [
    {
     "ename": "ModuleNotFoundError",
     "evalue": "No module named 'matplotlib'",
     "output_type": "error",
     "traceback": [
      "\u001b[1;31m---------------------------------------------------------------------------\u001b[0m",
      "\u001b[1;31mModuleNotFoundError\u001b[0m                       Traceback (most recent call last)",
      "Cell \u001b[1;32mIn[1], line 2\u001b[0m\n\u001b[0;32m      1\u001b[0m \u001b[38;5;28;01mimport\u001b[39;00m \u001b[38;5;21;01mnumpy\u001b[39;00m \u001b[38;5;28;01mas\u001b[39;00m \u001b[38;5;21;01mnp\u001b[39;00m\n\u001b[1;32m----> 2\u001b[0m \u001b[38;5;28;01mimport\u001b[39;00m \u001b[38;5;21;01mmatplotlib\u001b[39;00m\u001b[38;5;21;01m.\u001b[39;00m\u001b[38;5;21;01mpyplot\u001b[39;00m \u001b[38;5;28;01mas\u001b[39;00m \u001b[38;5;21;01mplt\u001b[39;00m\n\u001b[0;32m      4\u001b[0m \u001b[38;5;66;03m# Параметры\u001b[39;00m\n\u001b[0;32m      5\u001b[0m a \u001b[38;5;241m=\u001b[39m \u001b[38;5;241m0.1\u001b[39m  \u001b[38;5;66;03m# вероятность рождаемости жертв\u001b[39;00m\n",
      "\u001b[1;31mModuleNotFoundError\u001b[0m: No module named 'matplotlib'"
     ]
    }
   ],
   "source": [
    "import numpy as np\n",
    "import matplotlib.pyplot as plt\n",
    "\n",
    "# Параметры\n",
    "a = 0.1  # вероятность рождаемости жертв\n",
    "b = 0.02  # вероятность смертности жертв\n",
    "c = 0.1  # вероятность убыли хищников\n",
    "d = 0.01  # вероятность достаточности еды\n",
    "\n",
    "# Начальные условия\n",
    "V0 = 40  # начальное количество жертв\n",
    "P0 = 9   # начальное количество хищников\n",
    "h = 0.1  # шаг интегрирования\n",
    "N = 100  # количество шагов\n",
    "\n",
    "# Массивы для хранения значений\n",
    "V = np.zeros(N)\n",
    "P = np.zeros(N)\n",
    "V[0] = V0\n",
    "P[0] = P0\n",
    "\n",
    "# Метод Рунге-Кутты 4 порядка\n",
    "for n in range(N-1):\n",
    "    k1V = h * (a - b * P[n]) * V[n]\n",
    "    k1P = h * (-c + d * V[n]) * P[n]\n",
    "    \n",
    "    k2V = h * (a - b * (P[n] + k1P / 2)) * (V[n] + k1V / 2)\n",
    "    k2P = h * (-c + d * (V[n] + k1V / 2)) * (P[n] + k1P / 2)\n",
    "    \n",
    "    k3V = h * (a - b * (P[n] + k2P / 2)) * (V[n] + k2V / 2)\n",
    "    k3P = h * (-c + d * (V[n] + k2V / 2)) * (P[n] + k2P / 2)\n",
    "    \n",
    "    k4V = h * (a - b * (P[n] + k3P)) * (V[n] + k3V)\n",
    "    k4P = h * (-c + d * (V[n] + k3V)) * (P[n] + k3P)\n",
    "\n",
    "    # Обновляем значения\n",
    "    V[n + 1] = V[n] + (1/6) * (k1V + 2*k2V + 2*k3V + k4V)\n",
    "    P[n + 1] = P[n] + (1/6) * (k1P + 2*k2P + 2*k3P + k4P)\n",
    "\n",
    "# 2. Построение графиков изменения динамики численности хищников и жертв\n",
    "plt.figure(figsize=(12, 6))\n",
    "\n",
    "# График численности жертв и хищников\n",
    "plt.subplot(1, 2, 1)\n",
    "plt.plot(V, label='Жертвы (V)', color='green')\n",
    "plt.plot(P, label='Хищники (P)', color='red')\n",
    "plt.title('Динамика численности хищников и жертв')\n",
    "plt.xlabel('Время (t)')\n",
    "plt.ylabel('Численность')\n",
    "plt.legend()\n",
    "plt.grid()\n",
    "\n",
    "# Фазовая диаграмма\n",
    "plt.subplot(1, 2, 2)\n",
    "plt.plot(V, P, color='blue')\n",
    "plt.title('Фазовая диаграмма')\n",
    "plt.xlabel('Жертвы (V)')\n",
    "plt.ylabel('Хищники (P)')\n",
    "plt.grid()\n",
    "\n",
    "plt.tight_layout()\n",
    "plt.show()"
   ]
  }
 ],
 "metadata": {
  "kernelspec": {
   "display_name": ".venv",
   "language": "python",
   "name": "python3"
  },
  "language_info": {
   "codemirror_mode": {
    "name": "ipython",
    "version": 3
   },
   "file_extension": ".py",
   "mimetype": "text/x-python",
   "name": "python",
   "nbconvert_exporter": "python",
   "pygments_lexer": "ipython3",
   "version": "3.12.6"
  }
 },
 "nbformat": 4,
 "nbformat_minor": 2
}
