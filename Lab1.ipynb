{
 "cells": [
  {
   "cell_type": "markdown",
   "metadata": {},
   "source": [
    "# Лабораторная работа №1.\n",
    "Выполнил: студент группы ИДМ-24-07 Туркин Александр."
   ]
  },
  {
   "cell_type": "markdown",
   "metadata": {},
   "source": [
    "## Задание\n",
    "Математическая модель Лотки-Вольтерры («хищник-жертва»)\n",
    "\n",
    " \\begin{cases}\n",
    "   \\frac{dV}{dt}=(a-bP)V\n",
    "   \\\\\n",
    "   \\frac{dP}{dt}=(-c+dV)P\n",
    " \\end{cases}\n",
    "\n",
    "<center>Задаваемые параметры</center>\n",
    "\n",
    "P – количество хищников;  \n",
    "V – количество жертв;  \n",
    "t – время;  \n",
    "a – вероятность рождаемости жертв;  \n",
    "b – вероятность смертности жертв при встрече с хищником;  \n",
    "c – вероятность убыли хищников при нехватке еды;  \n",
    "d – вероятность достаточности еды для размножения хищников.\n",
    "\n",
    "<center>Задание</center>  \n",
    "\n",
    "1. Решить систему уравнений численно методом Рунге-Кутты 4 порядка \n",
    "точности  \n",
    "2. Построить графики изменения динамики численности хищников V(t), и \n",
    "жертв P(t)  \n",
    "3. Построить фазовую диаграмму (по оси Х – жертвы, по оси У – хищники)  \n",
    "4. Найти стационарную точку (равновесное состояние, в общем виде)  \n",
    "5. В выводах написать влияние каждого из коэффициентов (a, b, c, d) на \n",
    "систему  "
   ]
  },
  {
   "cell_type": "code",
   "execution_count": 5,
   "metadata": {},
   "outputs": [
    {
     "ename": "ModuleNotFoundError",
     "evalue": "No module named 'scipy'",
     "output_type": "error",
     "traceback": [
      "\u001b[1;31m---------------------------------------------------------------------------\u001b[0m",
      "\u001b[1;31mModuleNotFoundError\u001b[0m                       Traceback (most recent call last)",
      "Cell \u001b[1;32mIn[5], line 3\u001b[0m\n\u001b[0;32m      1\u001b[0m \u001b[38;5;28;01mimport\u001b[39;00m \u001b[38;5;21;01mnumpy\u001b[39;00m \u001b[38;5;28;01mas\u001b[39;00m \u001b[38;5;21;01mnp\u001b[39;00m\n\u001b[0;32m      2\u001b[0m \u001b[38;5;28;01mimport\u001b[39;00m \u001b[38;5;21;01mmatplotlib\u001b[39;00m\u001b[38;5;21;01m.\u001b[39;00m\u001b[38;5;21;01mpyplot\u001b[39;00m \u001b[38;5;28;01mas\u001b[39;00m \u001b[38;5;21;01mplt\u001b[39;00m\n\u001b[1;32m----> 3\u001b[0m \u001b[38;5;28;01mfrom\u001b[39;00m \u001b[38;5;21;01mscipy\u001b[39;00m\u001b[38;5;21;01m.\u001b[39;00m\u001b[38;5;21;01mintegrate\u001b[39;00m \u001b[38;5;28;01mimport\u001b[39;00m odeint\n\u001b[0;32m      5\u001b[0m \u001b[38;5;66;03m# Определяем параметры модели\u001b[39;00m\n\u001b[0;32m      6\u001b[0m alpha \u001b[38;5;241m=\u001b[39m \u001b[38;5;241m0.1\u001b[39m  \u001b[38;5;66;03m# коэффициент размножения жертв\u001b[39;00m\n",
      "\u001b[1;31mModuleNotFoundError\u001b[0m: No module named 'scipy'"
     ]
    }
   ],
   "source": []
  }
 ],
 "metadata": {
  "kernelspec": {
   "display_name": "Python 3",
   "language": "python",
   "name": "python3"
  },
  "language_info": {
   "codemirror_mode": {
    "name": "ipython",
    "version": 3
   },
   "file_extension": ".py",
   "mimetype": "text/x-python",
   "name": "python",
   "nbconvert_exporter": "python",
   "pygments_lexer": "ipython3",
   "version": "3.12.4"
  }
 },
 "nbformat": 4,
 "nbformat_minor": 2
}
