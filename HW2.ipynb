{
 "cells": [
  {
   "cell_type": "markdown",
   "metadata": {},
   "source": [
    "# Решение линейных систем"
   ]
  },
  {
   "cell_type": "markdown",
   "metadata": {},
   "source": [
    "## Задание 1\n",
    "Найти уравнение тренда, используя метод наименьших квадратов для следующих данных\n",
    "\n",
    "| x | 0  | 1  | 2  | 4  | 5  |\n",
    "|---|----|----|----|----|----|\n",
    "| y | 2.1| 2.4| 2.6| 2.8| 3  |\n"
   ]
  },
  {
   "cell_type": "markdown",
   "metadata": {},
   "source": [
    "### Решение"
   ]
  },
  {
   "cell_type": "code",
   "execution_count": 8,
   "metadata": {},
   "outputs": [
    {
     "name": "stdout",
     "output_type": "stream",
     "text": [
      "Уравнение тренда: y = 0.1651162790697673x + 2.1837209302325586\n"
     ]
    }
   ],
   "source": [
    "def least_squares(x, y):\n",
    "    n = len(x)\n",
    "    sum_x = sum(x)\n",
    "    sum_x_square = sum(i**2 for i in x)\n",
    "    sum_y = sum(y)\n",
    "    sum_xy = sum(i*j for i, j in zip(x, y))\n",
    "\n",
    "    a = (n * sum_xy - sum_x * sum_y) / (n * sum_x_square - sum_x**2)\n",
    "    b = (sum_y - a * sum_x) / n\n",
    "\n",
    "    return a, b\n",
    "\n",
    "\n",
    "x = [0, 1, 2, 4, 5]\n",
    "y = [2.1, 2.4, 2.6, 2.8, 3]\n",
    "\n",
    "a, b = least_squares(x, y)\n",
    "print(f\"Уравнение тренда: y = {a}x + {b}\")\n",
    "\n"
   ]
  },
  {
   "cell_type": "markdown",
   "metadata": {},
   "source": [
    "## Задание 2\n",
    "\n",
    "Решить методом простых итераций систему с точностью $\\epsilon = 0.1$\n",
    "\n",
    " \\begin{cases}\n",
    "   4x_1+x_2-x_3=0\n",
    "   \\\\\n",
    "   x_1-5x_2+x_3=1\n",
    "   \\\\\n",
    "   x_1-x_2+4x_3=0\n",
    " \\end{cases}"
   ]
  },
  {
   "cell_type": "markdown",
   "metadata": {},
   "source": [
    "### Решение\n",
    "\n",
    "Для решения системы уравнений методом простых итераций, сначала необходимо выразить каждую переменную через остальные. Перепишем систему уравнений:\n",
    "\n",
    "\\begin{cases}\n",
    "   4x_1 + x_2 - x_3 = 0 \\implies x_1 = \\frac{x_3 - x_2}{4} \\\\\n",
    "   x_1 - 5x_2 + x_3 = 1 \\implies x_2 = \\frac{x_1 + x_3 - 1}{5} \\\\\n",
    "   x_1 - x_2 + 4x_3 = 0 \\implies x_3 = \\frac{x_2 - x_1}{4}\n",
    "\\end{cases}\n",
    "\n",
    "Начнем с начальных приближений для $x_1^0 = 0, x_2^0 = 0, x_3^0 = 0$, и будем итеративно обновлять их значения. (Я буду решать с точностью $\\epsilon = 10^{-5}$, точность заданная в задании настолько велика, что значения после первой итерации будут удовлетворительными)"
   ]
  },
  {
   "cell_type": "code",
   "execution_count": 21,
   "metadata": {},
   "outputs": [
    {
     "name": "stdout",
     "output_type": "stream",
     "text": [
      "Решение: x1 = 0.0361519775390625, x2 = -0.20481640625000003, x3 = -0.0602435302734375\n"
     ]
    }
   ],
   "source": [
    "import numpy as np\n",
    "\n",
    "# Функции для обновления переменных\n",
    "def update_x1(x2, x3):\n",
    "    return (x3 - x2) / 4\n",
    "\n",
    "def update_x2(x1, x3):\n",
    "    return (x1 + x3 - 1) / 5\n",
    "\n",
    "def update_x3(x1, x2):\n",
    "    return (x2 - x1) / 4\n",
    "\n",
    "# Начальные приближения\n",
    "x1 = 0.0\n",
    "x2 = 0.0\n",
    "x3 = 0.0\n",
    "\n",
    "# Параметры итерации\n",
    "tolerance = 1e-5\n",
    "max_iterations = 100\n",
    "iteration = 0\n",
    "\n",
    "# Итерационный процесс\n",
    "while iteration < max_iterations:\n",
    "    x1_new = update_x1(x2, x3)\n",
    "    x2_new = update_x2(x1, x3)\n",
    "    x3_new = update_x3(x1, x2)\n",
    "\n",
    "    # Проверка на сходимость\n",
    "    if (abs(x1_new - x1) < tolerance and\n",
    "        abs(x2_new - x2) < tolerance and\n",
    "        abs(x3_new - x3) < tolerance):\n",
    "        break\n",
    "\n",
    "    x1, x2, x3 = x1_new, x2_new, x3_new\n",
    "    iteration += 1\n",
    "\n",
    "# Результаты\n",
    "print(f\"Решение: x1 = {x1}, x2 = {x2}, x3 = {x3}\")\n"
   ]
  },
  {
   "cell_type": "markdown",
   "metadata": {},
   "source": [
    "### Проверка\n",
    "\n",
    "Решим задачу аналитическим путем, чтобы сверить результаты.\n",
    "\n",
    "Дана система уравнений:\n",
    "\n",
    "\\begin{cases}\n",
    "   4x_1 + x_2 - x_3 = 0 \\quad (1) \\\\\n",
    "   x_1 - 5x_2 + x_3 = 1 \\quad (2) \\\\\n",
    "   x_1 - x_2 + 4x_3 = 0 \\quad (3)\n",
    "\\end{cases}\n",
    "\n",
    "Из уравнения (1) выразим $x_3$:\n",
    "\n",
    "$\n",
    "x_3 = 4x_1 + x_2\n",
    "$\n",
    "\n",
    "Теперь подставим это выражение для $x_3$ в уравнения (2) и (3).\n",
    "\n",
    "Подставим в (2):\n",
    "\n",
    "$\n",
    "x_1 - 5x_2 + (4x_1 + x_2) = 1\n",
    "$\n",
    "\n",
    "Упрощаем:\n",
    "\n",
    "$\n",
    "x_1 - 5x_2 + 4x_1 + x_2 = 1 \\\\\n",
    "5x_1 - 4x_2 = 1 \\quad (4)\n",
    "$\n",
    "\n",
    "Теперь подставим в (3):\n",
    "\n",
    "$\n",
    "x_1 - x_2 + 4(4x_1 + x_2) = 0\n",
    "$\n",
    "\n",
    "Упрощаем:\n",
    "\n",
    "$\n",
    "x_1 - x_2 + 16x_1 + 4x_2 = 0 \\\\\n",
    "17x_1 + 3x_2 = 0 \\quad (5)\n",
    "$\n",
    "\n",
    "Теперь у нас есть новая система из двух уравнений (4) и (5):\n",
    "\n",
    "\\begin{cases}\n",
    "   5x_1 - 4x_2 = 1 \\quad (4) \\\\\n",
    "   17x_1 + 3x_2 = 0 \\quad (5)\n",
    "\\end{cases}\n",
    "\n",
    "Теперь выразим $x_2$ из уравнения (5):\n",
    "\n",
    "$\n",
    "3x_2 = -17x_1 \\\\\n",
    "x_2 = -\\frac{17}{3}x_1\n",
    "$\n",
    "\n",
    "Подставим это значение $x_2$ в уравнение (4):\n",
    "\n",
    "$\n",
    "5x_1 - 4\\left(-\\frac{17}{3}x_1\\right) = 1 \\\\\n",
    "5x_1 + \\frac{68}{3}x_1 = 1\n",
    "$\n",
    "\n",
    "Приведем к общему знаменателю:\n",
    "\n",
    "$\n",
    "\\frac{15}{3}x_1 + \\frac{68}{3}x_1 = 1 \\\\\n",
    "\\frac{83}{3}x_1 = 1 \\\\\n",
    "x_1 = \\frac{3}{83}\n",
    "$\n",
    "\n",
    "Теперь подставим $x_1$ обратно в выражение для $x_2$:\n",
    "\n",
    "$\n",
    "x_2 = -\\frac{17}{3}\\left(\\frac{3}{83}\\right) = -\\frac{17}{83}\n",
    "$\n",
    "\n",
    "Теперь найдем $x_3$ с помощью выражения $x_3 = 4x_1 + x_2$:\n",
    "\n",
    "$\n",
    "x_3 = 4\\left(\\frac{3}{83}\\right) + \\left(-\\frac{17}{83}\\right) \\\\\n",
    "x_3 = \\frac{12}{83} - \\frac{17}{83} = -\\frac{5}{83}\n",
    "$\n",
    "\n",
    "Таким образом, решение системы уравнений:\n",
    "\n",
    "\\begin{cases}\n",
    "   x_1 = \\frac{3}{83} \\\\\n",
    "   x_2 = -\\frac{17}{83} \\\\\n",
    "   x_3 = -\\frac{5}{83}\n",
    "\\end{cases}"
   ]
  },
  {
   "cell_type": "markdown",
   "metadata": {},
   "source": [
    "#### Сравним полученные значения"
   ]
  },
  {
   "cell_type": "code",
   "execution_count": 22,
   "metadata": {},
   "outputs": [
    {
     "name": "stdout",
     "output_type": "stream",
     "text": [
      "Аналитическое решение: x1 = 0.03614457831325301, x2 = -0.20481927710843373, x3 = -0.060240963855421686\n",
      "Метод простых итерраций: x1 = 0.0361519775390625, x2 = -0.20481640625000003, x3 = -0.0602435302734375\n"
     ]
    }
   ],
   "source": [
    "print(f\"Аналитическое решение: x1 = {3/83}, x2 = {-17/83}, x3 = {-5/83}\")\n",
    "print(f\"Метод простых итерраций: x1 = {x1}, x2 = {x2}, x3 = {x3}\")"
   ]
  }
 ],
 "metadata": {
  "kernelspec": {
   "display_name": ".venv",
   "language": "python",
   "name": "python3"
  },
  "language_info": {
   "codemirror_mode": {
    "name": "ipython",
    "version": 3
   },
   "file_extension": ".py",
   "mimetype": "text/x-python",
   "name": "python",
   "nbconvert_exporter": "python",
   "pygments_lexer": "ipython3",
   "version": "3.12.4"
  }
 },
 "nbformat": 4,
 "nbformat_minor": 2
}
