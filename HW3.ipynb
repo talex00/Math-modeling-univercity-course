{
 "cells": [
  {
   "cell_type": "markdown",
   "metadata": {},
   "source": [
    "# Расчет производных с использованием конечных разностных схем.\n",
    "Выполнил: студент группы ИДМ-24-07 Туркин Александр."
   ]
  },
  {
   "cell_type": "markdown",
   "metadata": {},
   "source": [
    "## Задание\n",
    "\n",
    "Разработать программу для расчета производных элементарных функций."
   ]
  },
  {
   "cell_type": "markdown",
   "metadata": {},
   "source": [
    "## Решение"
   ]
  },
  {
   "cell_type": "code",
   "execution_count": 25,
   "metadata": {},
   "outputs": [
    {
     "name": "stdout",
     "output_type": "stream",
     "text": [
      "Приближенная производная функции f(x) = x**2 в точке x = 2.0: 4.000000000026205\n",
      "Точная производная функции f(x) = x**2 в точке x = 2.0: 4.00000000000000\n",
      "\n",
      "Приближенная производная функции f(x) = sin(x) в точке x = 2.0: -0.4161468365404541\n",
      "Точная производная функции f(x) = sin(x) в точке x = 2.0: -0.416146836547142\n",
      "\n",
      "Приближенная производная функции f(x) = exp(x) в точке x = 2.0: 7.38905609911633\n",
      "Точная производная функции f(x) = exp(x) в точке x = 2.0: 7.38905609893065\n",
      "\n",
      "Приближенная производная функции f(x) = log(x) в точке x = 2.0: 0.5000000000088267\n",
      "Точная производная функции f(x) = log(x) в точке x = 2.0: 0.500000000000000\n",
      "\n"
     ]
    }
   ],
   "source": [
    "import numpy as np\n",
    "import matplotlib.pyplot as plt\n",
    "import sympy as sp\n",
    "\n",
    "def central_difference(f, x, h):\n",
    "    \"\"\"Вычисляет производную функции f в точке x с использованием центральной разностной схемы.\"\"\"\n",
    "    return (f(x + h) - f(x - h)) / (2 * h)\n",
    "\n",
    "def example_function_1(x):\n",
    "    \"\"\"Пример элементарной функции: f(x) = x^2.\"\"\"\n",
    "    return x ** 2\n",
    "\n",
    "def example_function_2(x):\n",
    "    \"\"\"Пример элементарной функции: f(x) = sin(x).\"\"\"\n",
    "    return np.sin(x)\n",
    "\n",
    "def example_function_3(x):\n",
    "    \"\"\"Пример элементарной функции: f(x) = e^x.\"\"\"\n",
    "    return np.exp(x)\n",
    "\n",
    "def example_function_4(x):\n",
    "    \"\"\"Пример элементарной функции: f(x) = ln(x).\"\"\"\n",
    "    return np.log(x)\n",
    "\n",
    "# Список функций для проверки\n",
    "functions = [\n",
    "    (example_function_1, \"x**2\"),\n",
    "    (example_function_2, \"sin(x)\"),\n",
    "    (example_function_3, \"exp(x)\"),\n",
    "    (example_function_4, \"log(x)\")\n",
    "]\n",
    "\n",
    "# Задаем параметры\n",
    "x_value = 2.0  # Точка, в которой будем вычислять производную\n",
    "h = 1e-5  # Шаг для разностной схемы\n",
    "\n",
    "\n",
    "\n",
    "for func, func_name in functions:\n",
    "    # Вычисляем производную\n",
    "    derivative = central_difference(func, x_value, h)\n",
    "    print(f\"Приближенная производная функции f(x) = {func_name} в точке x = {x_value}: {derivative}\")\n",
    "\n",
    "    # Проверка с помощью sympy\n",
    "    # Символ для sympy\n",
    "    x_sym = sp.symbols('x')\n",
    "\n",
    "    sym_func = sp.sympify(func_name)  # Преобразуем строку в выражение\n",
    "    sym_derivative = sp.diff(sym_func, x_sym)  # Вычисляем производную\n",
    "    sym_derivative_value = sym_derivative.evalf(subs={x_sym: x_value})  # Подставляем значение\n",
    "    print(f\"Точная производная функции f(x) = {func_name} в точке x = {x_value}: {sym_derivative_value}\\n\")\n"
   ]
  }
 ],
 "metadata": {
  "kernelspec": {
   "display_name": ".venv",
   "language": "python",
   "name": "python3"
  },
  "language_info": {
   "codemirror_mode": {
    "name": "ipython",
    "version": 3
   },
   "file_extension": ".py",
   "mimetype": "text/x-python",
   "name": "python",
   "nbconvert_exporter": "python",
   "pygments_lexer": "ipython3",
   "version": "3.12.6"
  }
 },
 "nbformat": 4,
 "nbformat_minor": 2
}
